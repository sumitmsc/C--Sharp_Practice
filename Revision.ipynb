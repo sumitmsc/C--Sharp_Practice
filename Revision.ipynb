{
  "nbformat": 4,
  "nbformat_minor": 0,
  "metadata": {
    "colab": {
      "provenance": [],
      "authorship_tag": "ABX9TyOfkd14y9jqHIoUEfFyuBtY",
      "include_colab_link": true
    },
    "kernelspec": {
      "name": "python3",
      "display_name": "Python 3"
    },
    "language_info": {
      "name": "python"
    }
  },
  "cells": [
    {
      "cell_type": "markdown",
      "metadata": {
        "id": "view-in-github",
        "colab_type": "text"
      },
      "source": [
        "<a href=\"https://colab.research.google.com/github/sumitmsc/C--Sharp_Practice/blob/main/Revision.ipynb\" target=\"_parent\"><img src=\"https://colab.research.google.com/assets/colab-badge.svg\" alt=\"Open In Colab\"/></a>"
      ]
    },
    {
      "cell_type": "markdown",
      "source": [
        "🧠 What is Slicing?\n",
        "Slicing is used to extract a portion of a sequence like a list, string, or tuple.\n",
        "sequence[start:stop:step]\n",
        "\n",
        "sequence[start:stop:step]Show more lines\n",
        "\n",
        "start: index to begin (inclusive)\n",
        "stop: index to end (exclusive)\n",
        "step: how many steps to move forward\n"
      ],
      "metadata": {
        "id": "1iL9tHL8ADpl"
      }
    },
    {
      "cell_type": "code",
      "execution_count": 1,
      "metadata": {
        "colab": {
          "base_uri": "https://localhost:8080/"
        },
        "id": "1z7PQTv1_tIy",
        "outputId": "e951bfac-e9ae-406c-d2ff-0f5cea2968e7"
      },
      "outputs": [
        {
          "output_type": "stream",
          "name": "stdout",
          "text": [
            "Python\n",
            "Programming\n",
            "Python\n",
            "PtoPormig\n",
            "gnimmargorPnohtyP\n"
          ]
        }
      ],
      "source": [
        "\n",
        "text = \"PythonProgramming\"\n",
        "\n",
        "print(text[0:6])       # Output: Python\n",
        "print(text[6:])        # Output: Programming\n",
        "print(text[:6])        # Output: Python\n",
        "print(text[::2])       # Output: PtoPrgamn\n",
        "print(text[::-1])      # Output: gnimmargorPnohtyP (reversed)\n",
        "\n"
      ]
    },
    {
      "cell_type": "code",
      "source": [
        "\n",
        "numbers = [10, 20, 30, 40, 50, 60]\n",
        "\n",
        "print(numbers[1:4])     # Output: [20, 30, 40]\n",
        "print(numbers[:3])      # Output: [10, 20, 30]\n",
        "print(numbers[::2])     # Output: [10, 30, 50]\n",
        "print(numbers[::-1])    # Output: [60, 50, 40, 30, 20, 10]\n"
      ],
      "metadata": {
        "colab": {
          "base_uri": "https://localhost:8080/"
        },
        "id": "q5xpFg_NABp_",
        "outputId": "c278d90e-e5e7-4dd9-8d37-10501e1f8d71"
      },
      "execution_count": 2,
      "outputs": [
        {
          "output_type": "stream",
          "name": "stdout",
          "text": [
            "[20, 30, 40]\n",
            "[10, 20, 30]\n",
            "[10, 30, 50]\n",
            "[60, 50, 40, 30, 20, 10]\n"
          ]
        }
      ]
    },
    {
      "cell_type": "code",
      "source": [
        "\n",
        "text = \"Python\"\n",
        "\n",
        "print(text[-1])         # Output: n (last character)\n",
        "print(text[-3:])        # Output: hon\n",
        "print(text[-4:-1])      # Output: tho\n"
      ],
      "metadata": {
        "colab": {
          "base_uri": "https://localhost:8080/"
        },
        "id": "ADhYtLyZCNjX",
        "outputId": "b0eed5c4-262d-4a80-cf7c-de511fd2514e"
      },
      "execution_count": 3,
      "outputs": [
        {
          "output_type": "stream",
          "name": "stdout",
          "text": [
            "n\n",
            "hon\n",
            "tho\n"
          ]
        }
      ]
    },
    {
      "cell_type": "code",
      "source": [
        "\n",
        "\n",
        "text = \"PythonProgramming\"\n",
        "print(text[-1])         # Output: n (last character)\n",
        "print(text[7:1:-2])\n",
        "\n",
        "cc"
      ],
      "metadata": {
        "colab": {
          "base_uri": "https://localhost:8080/"
        },
        "id": "1g6KkaT0UsGa",
        "outputId": "692db630-48e5-4f93-db93-e06a55188ecb"
      },
      "execution_count": 21,
      "outputs": [
        {
          "output_type": "stream",
          "name": "stdout",
          "text": [
            "g\n",
            "rnh\n",
            "GPythonProgramming\n"
          ]
        }
      ]
    },
    {
      "cell_type": "code",
      "source": [
        "text = \"PythonProgramming\"\n",
        "new_text='G'+text[0:]\n",
        "print(new_text)"
      ],
      "metadata": {
        "colab": {
          "base_uri": "https://localhost:8080/"
        },
        "id": "yae0AujNgZBI",
        "outputId": "265bc8d6-2904-42d7-8685-8ebc1291323b"
      },
      "execution_count": 22,
      "outputs": [
        {
          "output_type": "stream",
          "name": "stdout",
          "text": [
            "GPythonProgramming\n"
          ]
        }
      ]
    }
  ]
}